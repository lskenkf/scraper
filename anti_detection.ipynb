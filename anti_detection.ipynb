{
 "cells": [
  {
   "cell_type": "code",
   "execution_count": 18,
   "metadata": {},
   "outputs": [],
   "source": [
    "import requests\n",
    "headers= {\n",
    "    'content-type': 'application/json',\n",
    "    'x-requested-with': 'XMLHttpRequest'\n",
    "   }\n",
    "\n",
    "api_url = \"https://www.dm.de/aptamil-anfangsmilch-pre-pronutra-von-geburt-an-p4056631001202.html\"\n",
    "#user_agent = \"Mozilla/5.0 (Windows NT 10.0; Win64; x64) AppleWebKit/537.36 (KHTML, like Gecko) Chrome/68.0.3440.106 Safari/537.36\"\n",
    "\n",
    "#headers = {'User-Agent': user_agent} \n",
    "proxies = {'http': 'http://5.183.102.169'} \n",
    "jsonData = requests.get(url = api_url, proxies=proxies,headers=headers)   "
   ]
  },
  {
   "cell_type": "code",
   "execution_count": 19,
   "metadata": {},
   "outputs": [
    {
     "data": {
      "text/plain": [
       "'<!DOCTYPE html>\\n<html lang=\"de\" dir=\"ltr\">\\n<head>\\n\\t<meta charset=\"UTF-8\">\\n\\t<title>dm-drogerie markt - dauerhaft günstig online kaufen</title>\\n\\n\\t<meta name=\"viewport\" content=\"width=device-width, initial-scale=1\">\\n\\t<link rel=\"manifest\" href=\"/manifest.json\">\\n\\t<link rel=\"icon\" type=\"image/png\" sizes=\"32x32\" href=\"/favicon-32x32.png\">\\n\\t<link rel=\"icon\" type=\"image/png\" sizes=\"16x16\" href=\"/favicon-16x16.png\">\\n\\t<link rel=\"apple-touch-icon\" sizes=\"180x180\" href=\"/apple-touch-icon.png\">\\n\\t<link rel=\"mask-icon\" href=\"/safari-pinned-tab.svg\" color=\"#002878\">\\n\\t<!-- iPhone Xs Max (1242px x 2688px) -->\\n\\t<link rel=\"apple-touch-startup-image\"\\n\\t\\t  media=\"(device-width: 414px) and (device-height: 896px) and (-webkit-device-pixel-ratio: 3)\"\\n\\t\\t  href=\"/screen/splashscreen_1242x2688.png\">\\n\\t<!-- iPhone Xr (828px x 1792px) -->\\n\\t<link rel=\"apple-touch-startup-image\"\\n\\t\\t  media=\"(device-width: 414px) and (device-height: 896px) and (-webkit-device-pixel-ratio: 2)\"\\n\\t\\t  href=\"/screen/splashscreen_828x1792.png\">\\n\\t<!-- iPhone X, Xs (1125px x 2436px) -->\\n\\t<link rel=\"apple-touch-startup-image\"\\n\\t\\t  media=\"(device-width: 375px) and (device-height: 812px) and (-webkit-device-pixel-ratio: 3)\"\\n\\t\\t  href=\"/screen/splashscreen_1125x2436.png\">\\n\\t<!-- iPhone 8 Plus, 7 Plus, 6s Plus, 6 Plus (1242px x 2208px) -->\\n\\t<link rel=\"apple-touch-startup-image\"\\n\\t\\t  media=\"(device-width: 414px) and (device-height: 736px) and (-webkit-device-pixel-ratio: 3)\"\\n\\t\\t  href=\"/screen/splashscreen_1242x2208.png\">\\n\\t<!-- iPhone 8, 7, 6s, 6 (750px x 1334px) -->\\n\\t<link rel=\"apple-touch-startup-image\"\\n\\t\\t  media=\"(device-width: 375px) and (device-height: 667px) and (-webkit-device-pixel-ratio: 2)\"\\n\\t\\t  href=\"/screen/splashscreen_750x1334.png\">\\n\\t<!-- iPad Pro 12.9\" (2048px x 2732px) -->\\n\\t<link rel=\"apple-touch-startup-image\"\\n\\t\\t  media=\"(device-width: 1024px) and (device-height: 1366px) and (-webkit-device-pixel-ratio: 2)\"\\n\\t\\t  href=\"/screen/splashscreen_2048x2732.png\">\\n\\t<!-- iPad Pro 11” (1668px x 2388px) -->\\n\\t<link rel=\"apple-touch-startup-image\"\\n\\t\\t  media=\"(device-width: 834px) and (device-height: 1194px) and (-webkit-device-pixel-ratio: 2)\"\\n\\t\\t  href=\"/screen/splashscreen_1668x2388.png\">\\n\\t<!-- iPad Pro 10.5\" (1668px x 2224px) -->\\n\\t<link rel=\"apple-touch-startup-image\"\\n\\t\\t  media=\"(device-width: 834px) and (device-height: 1112px) and (-webkit-device-pixel-ratio: 2)\"\\n\\t\\t  href=\"/screen/splashscreen_1668x2224.png\">\\n\\t<!-- iPad Mini, Air (1536px x 2048px) -->\\n\\t<link rel=\"apple-touch-startup-image\"\\n\\t\\t  media=\"(device-width: 768px) and (device-height: 1024px) and (-webkit-device-pixel-ratio: 2)\"\\n\\t\\t  href=\"/screen/splashscreen_1536x2048.png\">\\n\\n\\t<meta name=\"apple-mobile-web-app-title\" content=\"dm\">\\n\\t<meta name=\"apple-mobile-web-app-capable\" content=\"yes\">\\n\\t<meta name=\"apple-mobile-web-app-status-bar-style\" content=\"default\">\\n\\n\\t<style>\\n\\t\\t#initial-logo {\\n\\t\\t\\tz-index: -9999;\\n\\t\\t\\tposition: relative;\\n\\t\\t}\\n\\n\\t\\t#first-paint-logo {\\n\\t\\t\\tmax-height: 50px;\\n\\t\\t}\\n\\n\\t\\t#logo-header {\\n\\t\\t\\talign-items: center;\\n\\t\\t\\tflex-direction: column;\\n\\t\\t\\tdisplay: flex;\\n\\t\\t}\\n\\n\\t\\t#logowrapper {\\n\\t\\t\\tposition: absolute;\\n\\t\\t\\tmax-width: 1200px;\\n\\t\\t\\tjustify-content: space-between;\\n\\t\\t\\tflex-wrap: wrap;\\n\\t\\t\\tdisplay: flex;\\n\\t\\t\\twidth: 100%;\\n\\t\\t}\\n\\n\\t\\t#logo-background {\\n\\t\\t\\tbackground: #fff;\\n\\t\\t\\tpadding: .9375rem 1.25rem 5px 1.25rem;\\n\\t\\t\\tz-index: 1;\\n\\t\\t}\\n\\n\\t\\t#logo-service-navigation-placeholder {\\n\\t\\t\\twidth: 100%;\\n\\t\\t\\theight: 49.188px;\\n\\t\\t\\tdisplay: none;\\n\\t\\t}\\n\\n\\t\\t@media only screen and (max-width: 900px) {\\n\\t\\t\\t#logowrapper {\\n\\t\\t\\t\\ttop: -5px;\\n\\t\\t\\t}\\n\\n\\t\\t\\t#first-paint-logo {\\n\\t\\t\\t\\twidth: 3.125rem;\\n\\t\\t\\t}\\n\\t\\t}\\n\\n\\t\\t@media only screen and (min-width: 900px) {\\n\\t\\t\\t#logowrapper {\\n\\t\\t\\t\\ttop: 2px;\\n\\t\\t\\t}\\n\\n\\t\\t\\t#first-paint-logo {\\n\\t\\t\\t\\twidth: 4.375rem;\\n\\t\\t\\t}\\n\\n\\t\\t\\t#logo-background {\\n\\t\\t\\t\\tpadding-left: 2.5rem;\\n\\t\\t\\t}\\n\\t\\t}\\n\\n\\t\\t@media only screen and (min-width: 1200px) {\\n\\t\\t\\t#logowrapper {\\n\\t\\t\\t\\ttop: 2px;\\n\\t\\t\\t}\\n\\n\\t\\t\\t#logo-background {\\n\\t\\t\\t\\tpadding-left: 1.5625rem;\\n\\t\\t\\t\\tmargin: 0 calc((100% - 1200px) / 2);\\n\\t\\t\\t}\\n\\n\\t\\t\\t#logo-service-navigation-placeholder {\\n\\t\\t\\t\\tdisplay: block;\\n\\t\\t\\t}\\n\\t\\t}\\n\\n\\t\\t@media only screen and (min-width: 1280px) {\\n\\t\\t\\t#logo-background {\\n\\t\\t\\t\\tpadding-left: 0;\\n\\t\\t\\t}\\n\\t\\t}\\n\\n\\t\\t@media all and (-ms-high-contrast: none), (-ms-high-contrast: active) {\\n\\t\\t\\t#initial-logo {\\n\\t\\t\\t\\tdisplay: none;\\n\\t\\t\\t}\\n\\t\\t}\\n\\t</style>\\n\\n\\t<div id=\"initial-logo\">\\n\\t\\t<header id=\"logo-header\">\\n\\t\\t\\t<div id=\"logowrapper\">\\n\\t\\t\\t\\t<div id=\"logo-background\">\\n\\t\\t\\t\\t\\t<img id=\"first-paint-logo\"\\n\\t\\t\\t\\t\\t\\tsrc=\"data:image/svg+xml;base64,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&#x3D;\">\\n\\t\\t\\t\\t</div>\\n\\t\\t\\t</div>\\n\\t\\t</header>\\n\\t</div>\\n\\n\\t<link rel=\"preconnect\" href=\"https://assets.dm.de\">\\n\\t<link rel=\"preconnect\" href=\"https://assets.dm.de\" crossorigin>\\n\\t<link rel=\"preconnect\" href=\"https://exc.mm.dm.de\">\\n\\t<link rel=\"preconnect\" href=\"https://del.mm.dm.de\">\\n\\t<link rel=\"preconnect\" href=\"https://media.dm-static.com\">\\n\\n\\n\\t<script src=\"/scripts/head.js\"></script>\\n\\n\\t<script src=\"https://assets.dm.de/js-libraries/2022.627.2127/js/libraries-dm.min.js\"></script>\\n\\t<script src=\"https://assets.dm.de/design-system/9.2.43/design-system_globals.min.js\"></script>\\n\\t<script src=\"https://assets.dm.de/design-system/9.2.43/design-system_dm.min.js\"></script>\\n\\t<script src=\"https://assets.dm.de/om/api/prod/om-api.min.js\"></script>\\n\\t<script src=\"https://assets.dm.de/composing/2022.620.8708/js/composing-dm.min.js\"></script>\\n\\t<script src=\"https://assets.dm.de/credit/prod/credit-checker.min.js\"></script>\\n\\t<script src=\"https://assets.dm.de/content-form/prod/formuiInitializer.min.js\"></script>\\n\\t<script src=\"https://assets.dm.de/search/prod/js/search-dm.min.js\"></script>\\n\\t<script src=\"https://assets.dm.de/stoerungsbanner/prod/js/stoerungsbanner.min.js\" async=\"async\"></script>\\n\\t<script src=\"https://assets.dm.de/storefinder/prod/storefinderInitializer.min.js\"></script>\\n\\t<script src=\"https://assets.dm.de/storefinder/prod/storefinderSearchInput.min.js\"></script>\\n\\t<script src=\"https://assets.dm.de/storefinder/prod/storePersistence.min.js\"></script>\\n\\t<script src=\"https://assets.dm.de/authentication-api/prod/dmnext-authentication-api.min.js\"></script>\\n\\t<script src=\"https://assets.dm.de/content-ui/prod/contentInitializer.min.js\"></script>\\n\\t<script src=\"https://assets.dm.de/customercare/prod/js/faqInitializer.min.js\"></script>\\n\\t<script src=\"https://assets.dm.de/om/components/prod/om-components-next.min.js\"></script>\\n\\t<script src=\"https://assets.dm.de/product/prod/js/product-dm.min.js\"></script>\\n\\t<script src=\"https://assets.dm.de/om/review-ui/prod/review-ui.min.js\"></script>\\n\\t<script src=\"https://assets.dm.de/productsearch/prod/js/productsearch-dm.min.js\"></script>\\n\\t<script src=\"https://assets.dm.de/shoppinglist/prod/shoppinglist.min.js\"></script>\\n\\t<script src=\"https://assets.dm.de/storeavailability/prod/store-availability-dm.min.js\"></script>\\n\\t<script src=\"https://assets.dm.de/cart/prod/js/cart-dm.min.js\"></script>\\n\\t<script src=\"https://assets.dm.de/recoweb/prod/js/recommendation.min.js\"></script>\\n\\n\\t<link rel=\"stylesheet\" type=\"text/css\" href=\"https://assets.dm.de/js-libraries/2022.627.2127/css/dm-base.min.css\"/>\\n\\t<link rel=\"stylesheet\" type=\"text/css\" href=\"https://assets.dm.de/stoerungsbanner/prod/css/stoerungsbanner.min.css\"/>\\n\\n</head>\\n<body>\\n<div id=\"app\"></div>\\n<script src=\"/scripts/main.js\"></script>\\n<script type=\"application/ld+json\">\\n{\\n  \"@context\": \"https://schema.org/\",\\n  \"@type\": \"WebSite\",\\n  \"url\": \"https://www.dm.de/\",\\n  \"potentialAction\": {\\n    \"@type\": \"SearchAction\",\\n    \"target\": \"https://www.dm.de/search?query={search_term_string}\",\\n    \"query-input\": \"required name=search_term_string\"\\n  }\\n}\\n</script>\\n\\n</body>\\n</html>\\n'"
      ]
     },
     "execution_count": 19,
     "metadata": {},
     "output_type": "execute_result"
    }
   ],
   "source": [
    "requests.get(url = api_url, proxies=proxies,headers=headers).text"
   ]
  },
  {
   "cell_type": "code",
   "execution_count": 11,
   "metadata": {},
   "outputs": [
    {
     "data": {
      "text/plain": [
       "<Response [200]>"
      ]
     },
     "execution_count": 11,
     "metadata": {},
     "output_type": "execute_result"
    }
   ],
   "source": [
    "requests.get(url = api_url, proxies=proxies,headers=headers)"
   ]
  },
  {
   "cell_type": "code",
   "execution_count": null,
   "metadata": {},
   "outputs": [],
   "source": []
  }
 ],
 "metadata": {
  "kernelspec": {
   "display_name": "Python 3.8.10 64-bit (windows store)",
   "language": "python",
   "name": "python3"
  },
  "language_info": {
   "codemirror_mode": {
    "name": "ipython",
    "version": 3
   },
   "file_extension": ".py",
   "mimetype": "text/x-python",
   "name": "python",
   "nbconvert_exporter": "python",
   "pygments_lexer": "ipython3",
   "version": "3.8.10"
  },
  "orig_nbformat": 4,
  "vscode": {
   "interpreter": {
    "hash": "f50cd69939ed2752bd55505557bc59e22a4f9c0833f8ad9662254246c7ed4ffd"
   }
  }
 },
 "nbformat": 4,
 "nbformat_minor": 2
}
