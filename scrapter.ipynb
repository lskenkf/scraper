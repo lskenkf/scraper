{
 "cells": [
  {
   "cell_type": "code",
   "execution_count": 25,
   "metadata": {},
   "outputs": [],
   "source": [
    "import requests\n",
    "import json\n",
    "import codecs\n",
    "\n",
    "import pandas as pd\n",
    "import numpy as np\n",
    "import pyautogui as pg\n",
    "\n",
    "from math import radians\n",
    "from bs4 import BeautifulSoup\n",
    "from sklearn.metrics.pairwise import haversine_distances\n",
    "\n",
    "import warnings\n",
    "warnings.filterwarnings('ignore')"
   ]
  },
  {
   "cell_type": "code",
   "execution_count": 26,
   "metadata": {},
   "outputs": [],
   "source": [
    "def immoscout24parser(html):\n",
    "        \n",
    "    try:\n",
    "        soup = BeautifulSoup(html, 'html.parser')\n",
    "        scripts = soup.findAll('script')\n",
    "        for script in scripts:\n",
    "            #print script.text.strip()\n",
    "            if 'IS24.resultList' in script.text.strip():\n",
    "                s = script.string.split('\\n')\n",
    "                for line in s:\n",
    "                    #print('\\n\\n\\'%s\\'' % line)\n",
    "                    if line.strip().startswith('resultListModel'):\n",
    "                        resultListModel = line.strip('resultListModel: ')\n",
    "                        immo_json = json.loads(resultListModel[:-1])\n",
    "\n",
    "                        searchResponseModel = immo_json[u'searchResponseModel']\n",
    "                        resultlist_json = searchResponseModel[u'resultlist.resultlist']\n",
    "                        \n",
    "                        return resultlist_json\n",
    "\n",
    "    except Exception as e:\n",
    "        print(\"Fehler in immoscout24 parser: %s\" % e)"
   ]
  },
  {
   "cell_type": "code",
   "execution_count": 200,
   "metadata": {},
   "outputs": [],
   "source": [
    "immos = {}\n",
    "\n",
    "def convert_html_str_to_dict(html_str):\n",
    "    b = 'Berlin' # Bundesland\n",
    "    s = 'Berlin' # Stadt\n",
    "    k = 'Wohnung' # Wohnung oder Haus\n",
    "    w = 'miete' # Miete oder Kauf\n",
    "\n",
    "\n",
    "\n",
    "    resultlist_json = immoscout24parser(html_str)\n",
    "    numberOfPages = int(resultlist_json[u'paging'][u'numberOfPages'])\n",
    "    pageNumber = int(resultlist_json[u'paging'][u'pageNumber'])\n",
    "\n",
    "\n",
    "    # Get the data\n",
    "    for resultlistEntry in resultlist_json['resultlistEntries'][0][u'resultlistEntry']:\n",
    "\n",
    "        realEstate = {}\n",
    "\n",
    "        try:\n",
    "            realEstate['distance'] = resultlistEntry['distance']\n",
    "        except:\n",
    "            realEstate['distance'] = None\n",
    "\n",
    "        try:\n",
    "            realEstateTags = resultlistEntry['realEstateTags']\n",
    "            tags = realEstateTags['tag']\n",
    "            if type(tags) == list:\n",
    "                realEstate['realEstateTags'] = tags\n",
    "            else:\n",
    "                realEstate['realEstateTags'] = [tags]\n",
    "        except:\n",
    "            realEstate['realEstateTags'] = list([])\n",
    "\n",
    "\n",
    "        realEstate_json = resultlistEntry[u'resultlist.realEstate']\n",
    "        realEstate[u'Miete/Kauf'] = w\n",
    "        realEstate[u'Haus/Wohnung'] = k\n",
    "        realEstate['address'] = realEstate_json['address']['description']['text']\n",
    "        realEstate['city'] = realEstate_json['address']['city']\n",
    "        realEstate['postcode'] = int(realEstate_json['address']['postcode'])\n",
    "        realEstate['quarter'] = realEstate_json['address']['quarter']\n",
    "        realEstate['city'] = s\n",
    "\n",
    "        try:\n",
    "            realEstate['lat'] = float(realEstate_json['address'][u'wgs84Coordinate']['latitude'])\n",
    "            realEstate['lon'] = float(realEstate_json['address'][u'wgs84Coordinate']['longitude'])\n",
    "        except:\n",
    "            realEstate['lat'] = None\n",
    "            realEstate['lon'] = None\n",
    "\n",
    "        try:\n",
    "            realEstate['realtorCompanyName'] = realEstate_json['realtorCompanyName']\n",
    "        except:\n",
    "            realEstate['realtorCompanyName'] = None\n",
    "    \n",
    "        realEstate['title'] = realEstate_json['title']\n",
    "        realEstate['numberOfRooms'] = int(realEstate_json['numberOfRooms'])\n",
    "        realEstate['livingSpace'] = int(realEstate_json['livingSpace'])\n",
    "\n",
    "        if k=='Wohnung':\n",
    "            realEstate['balcony'] = realEstate_json['balcony']\n",
    "            realEstate['builtInKitchen'] = realEstate_json['builtInKitchen']\n",
    "            realEstate['garden'] = realEstate_json['garden']\n",
    "            realEstate['privateOffer'] = (realEstate_json['privateOffer'] == 'true')\n",
    "            realEstate['totalprice'] = float(realEstate_json['calculatedTotalRent']['totalRent']['value'])\n",
    "        elif k=='Haus':\n",
    "            realEstate['isBarrierFree'] = realEstate_json['isBarrierFree']\n",
    "            realEstate['cellar'] = realEstate_json['cellar']\n",
    "            realEstate['plotArea'] = realEstate_json['plotArea']\n",
    "            realEstate['price'] = realEstate_json['price']['value']\n",
    "            realEstate['privateOffer'] = realEstate_json['privateOffer']\n",
    "            realEstate['energyPerformanceCertificate'] = realEstate_json['energyPerformanceCertificate']\n",
    "        \n",
    "        realEstate['floorplan'] = realEstate_json['floorplan']\n",
    "        realEstate['from'] = realEstate_json['companyWideCustomerId']\n",
    "        realEstate['ID'] = realEstate_json[u'@id']\n",
    "        realEstate['url'] = u'https://www.immobilienscout24.de/expose/%s' % realEstate['ID']\n",
    "\n",
    "        immos[realEstate['ID']] = realEstate\n",
    "        "
   ]
  },
  {
   "cell_type": "code",
   "execution_count": 99,
   "metadata": {},
   "outputs": [],
   "source": [
    "pg.PAUSE = 2.5\n",
    "def scrape_save_page(url):\n",
    "    input_x, input_y = 264, 64\n",
    "    copy_x, copy_y = 21, 130\n",
    "    data_x, data_y = 970, 985\n",
    "    tab_x, tab_y = 231, 22\n",
    "\n",
    "    pg.moveTo(input_x,input_y)\n",
    "    pg.click(button=\"left\")\n",
    "    pg.typewrite(url)\n",
    "    pg.typewrite([\"enter\"])\n",
    "\n",
    "    pg.moveTo(copy_x,copy_y)\n",
    "    pg.hotkey('ctrl', 'u') \n",
    "    pg.hotkey('ctrl', 'a')\n",
    "    pg.hotkey('ctrl', 'c') \n",
    "    \n",
    "    pg.moveTo(data_x, data_y)\n",
    "    pg.click(button=\"left\")\n",
    "    pg.hotkey('ctrl', 'v')\n",
    "\n",
    "    pg.moveTo(tab_x, tab_y)\n",
    "    pg.click(button=\"left\")"
   ]
  },
  {
   "cell_type": "code",
   "execution_count": 100,
   "metadata": {},
   "outputs": [
    {
     "ename": "KeyboardInterrupt",
     "evalue": "",
     "output_type": "error",
     "traceback": [
      "\u001b[1;31m---------------------------------------------------------------------------\u001b[0m",
      "\u001b[1;31mKeyboardInterrupt\u001b[0m                         Traceback (most recent call last)",
      "\u001b[1;32md:\\real_estate\\scraper\\scrapter.ipynb Cell 6'\u001b[0m in \u001b[0;36m<cell line: 2>\u001b[1;34m()\u001b[0m\n\u001b[0;32m      <a href='vscode-notebook-cell:/d%3A/real_estate/scraper/scrapter.ipynb#ch0000005?line=2'>3</a>\u001b[0m url\u001b[39m=\u001b[39m\u001b[39mf\u001b[39m\u001b[39m\"\u001b[39m\u001b[39mhttps://www.immobilienscout24.de/Suche/radius/wohnung-mieten?centerofsearchaddress=Berlin;;;1276003001;Berlin;&price=-3.0E10&livingspace=1.0-&exclusioncriteria=swapflat&pricetype=rentpermonth&geocoordinates=52.52343;13.41144;50.0&sorting=2&pagenumber=\u001b[39m\u001b[39m{\u001b[39;00mpage\u001b[39m}\u001b[39;00m\u001b[39m\"\u001b[39m\n\u001b[0;32m      <a href='vscode-notebook-cell:/d%3A/real_estate/scraper/scrapter.ipynb#ch0000005?line=3'>4</a>\u001b[0m \u001b[39m#print(url)\u001b[39;00m\n\u001b[1;32m----> <a href='vscode-notebook-cell:/d%3A/real_estate/scraper/scrapter.ipynb#ch0000005?line=4'>5</a>\u001b[0m scrape_save_page(url)\n",
      "\u001b[1;32md:\\real_estate\\scraper\\scrapter.ipynb Cell 5'\u001b[0m in \u001b[0;36mscrape_save_page\u001b[1;34m(url)\u001b[0m\n\u001b[0;32m      <a href='vscode-notebook-cell:/d%3A/real_estate/scraper/scrapter.ipynb#ch0000004?line=5'>6</a>\u001b[0m tab_x, tab_y \u001b[39m=\u001b[39m \u001b[39m231\u001b[39m, \u001b[39m22\u001b[39m\n\u001b[0;32m      <a href='vscode-notebook-cell:/d%3A/real_estate/scraper/scrapter.ipynb#ch0000004?line=7'>8</a>\u001b[0m pg\u001b[39m.\u001b[39mmoveTo(input_x,input_y)\n\u001b[1;32m----> <a href='vscode-notebook-cell:/d%3A/real_estate/scraper/scrapter.ipynb#ch0000004?line=8'>9</a>\u001b[0m pg\u001b[39m.\u001b[39;49mclick(button\u001b[39m=\u001b[39;49m\u001b[39m\"\u001b[39;49m\u001b[39mleft\u001b[39;49m\u001b[39m\"\u001b[39;49m)\n\u001b[0;32m     <a href='vscode-notebook-cell:/d%3A/real_estate/scraper/scrapter.ipynb#ch0000004?line=9'>10</a>\u001b[0m pg\u001b[39m.\u001b[39mtypewrite(url)\n\u001b[0;32m     <a href='vscode-notebook-cell:/d%3A/real_estate/scraper/scrapter.ipynb#ch0000004?line=10'>11</a>\u001b[0m pg\u001b[39m.\u001b[39mtypewrite([\u001b[39m\"\u001b[39m\u001b[39menter\u001b[39m\u001b[39m\"\u001b[39m])\n",
      "File \u001b[1;32md:\\real_estate\\scraper\\venv\\lib\\site-packages\\pyautogui\\__init__.py:599\u001b[0m, in \u001b[0;36m_genericPyAutoGUIChecks.<locals>.wrapper\u001b[1;34m(*args, **kwargs)\u001b[0m\n\u001b[0;32m    597\u001b[0m failSafeCheck()\n\u001b[0;32m    598\u001b[0m returnVal \u001b[39m=\u001b[39m wrappedFunction(\u001b[39m*\u001b[39margs, \u001b[39m*\u001b[39m\u001b[39m*\u001b[39mkwargs)\n\u001b[1;32m--> 599\u001b[0m _handlePause(kwargs\u001b[39m.\u001b[39;49mget(\u001b[39m\"\u001b[39;49m\u001b[39m_pause\u001b[39;49m\u001b[39m\"\u001b[39;49m, \u001b[39mTrue\u001b[39;49;00m))\n\u001b[0;32m    600\u001b[0m \u001b[39mreturn\u001b[39;00m returnVal\n",
      "File \u001b[1;32md:\\real_estate\\scraper\\venv\\lib\\site-packages\\pyautogui\\__init__.py:643\u001b[0m, in \u001b[0;36m_handlePause\u001b[1;34m(_pause)\u001b[0m\n\u001b[0;32m    641\u001b[0m \u001b[39mif\u001b[39;00m _pause:\n\u001b[0;32m    642\u001b[0m     \u001b[39massert\u001b[39;00m \u001b[39misinstance\u001b[39m(PAUSE, \u001b[39mint\u001b[39m) \u001b[39mor\u001b[39;00m \u001b[39misinstance\u001b[39m(PAUSE, \u001b[39mfloat\u001b[39m)\n\u001b[1;32m--> 643\u001b[0m     time\u001b[39m.\u001b[39;49msleep(PAUSE)\n",
      "\u001b[1;31mKeyboardInterrupt\u001b[0m: "
     ]
    }
   ],
   "source": [
    "pages = [num for num in range(2,67)]\n",
    "for page in pages:\n",
    "  url=f\"https://www.immobilienscout24.de/Suche/radius/wohnung-mieten?centerofsearchaddress=Berlin;;;1276003001;Berlin;&price=-3.0E10&livingspace=1.0-&exclusioncriteria=swapflat&pricetype=rentpermonth&geocoordinates=52.52343;13.41144;50.0&sorting=2&pagenumber={page}\"\n",
    "  #print(url)\n",
    "  scrape_save_page(url)"
   ]
  },
  {
   "cell_type": "code",
   "execution_count": 164,
   "metadata": {},
   "outputs": [],
   "source": [
    "data_path = \"rent_berlin_50_all.txt\"\n",
    "with open(data_path, encoding='utf-8') as file:\n",
    "    data = file.read()\n",
    "htmls = data.split('<!doctype html>')\n",
    "htmls = htmls[1:]\n",
    "htmls = ['<!doctype html>' + html for html in htmls]"
   ]
  },
  {
   "cell_type": "code",
   "execution_count": 212,
   "metadata": {},
   "outputs": [],
   "source": [
    "for html_str in htmls:\n",
    "    convert_html_str_to_dict(html_str)\n",
    "\n",
    "df = pd.DataFrame(immos).T\n",
    "df.index.name = 'ID'\n",
    "for col in ['numberOfRooms', 'livingSpace', 'totalprice', 'distance']:\n",
    "    df[col] = pd.to_numeric(df[col])\n",
    "df['price_pro_quadratmeter'] = df['totalprice']/df['livingSpace']\n",
    "df = df.loc[df.price_pro_quadratmeter < 200]\n",
    "\n",
    "# tags = df['realEstateTags'].tolist()\n",
    "# tags = set([tag for tag_list in tags for tag in tag_list])\n",
    "tags = ['Aufzug','Balkon/Terrasse','Einbauküche','Garten','Gäste-WC','Keller','Stufenlos','WG-geeignet']\n",
    "for tag in tags:\n",
    "    df[tag] = df['realEstateTags'].apply(lambda x: tag in x)"
   ]
  },
  {
   "cell_type": "code",
   "execution_count": 214,
   "metadata": {},
   "outputs": [
    {
     "data": {
      "text/plain": [
       "Index(['distance', 'realEstateTags', 'Miete/Kauf', 'Haus/Wohnung', 'address',\n",
       "       'city', 'postcode', 'quarter', 'lat', 'lon', 'realtorCompanyName',\n",
       "       'title', 'numberOfRooms', 'livingSpace', 'balcony', 'builtInKitchen',\n",
       "       'garden', 'privateOffer', 'totalprice', 'floorplan', 'from', 'ID',\n",
       "       'url', 'price_pro_quadratmeter', 'Aufzug', 'Balkon/Terrasse',\n",
       "       'Einbauküche', 'Garten', 'Gäste-WC', 'Keller', 'Stufenlos',\n",
       "       'WG-geeignet'],\n",
       "      dtype='object')"
      ]
     },
     "execution_count": 214,
     "metadata": {},
     "output_type": "execute_result"
    }
   ],
   "source": [
    "df.columns"
   ]
  },
  {
   "cell_type": "code",
   "execution_count": 224,
   "metadata": {},
   "outputs": [],
   "source": [
    "cols_feature = ['postcode', 'Aufzug', 'Balkon/Terrasse',\n",
    "       'Einbauküche', 'Garten', 'Gäste-WC', 'Keller', 'Stufenlos',\n",
    "       'WG-geeignet', 'privateOffer']\n",
    "       \n",
    "cols_target = ['price_pro_quadratmeter']"
   ]
  },
  {
   "cell_type": "code",
   "execution_count": 227,
   "metadata": {},
   "outputs": [
    {
     "name": "stdout",
     "output_type": "stream",
     "text": [
      "Coefficients: \n",
      " [[-2.02533446e-03  2.46367034e+00 -2.02098815e+00  4.59469062e+00\n",
      "   1.71829025e+00  5.60096043e-01 -1.24626095e+00 -2.35025406e-01\n",
      "  -1.92703264e+00 -2.18832377e+00]]\n",
      "Mean squared error: 82.93\n",
      "Coefficient of determination: 0.26\n"
     ]
    },
    {
     "data": {
      "image/png": "[encoded data removed]",
      "text/plain": [
       "<Figure size 432x288 with 1 Axes>"
      ]
     },
     "metadata": {},
     "output_type": "display_data"
    }
   ],
   "source": [
    "import matplotlib.pyplot as plt\n",
    "import numpy as np\n",
    "from sklearn import datasets, linear_model\n",
    "from sklearn.metrics import mean_squared_error, r2_score\n",
    "from sklearn.model_selection import train_test_split\n",
    "\n",
    "# Load the diabetes dataset\n",
    "X, y = df[cols_feature], df[cols_target]\n",
    "X_train, X_test, y_train, y_test = train_test_split(\n",
    "    X, y, test_size=0.33, random_state=42)\n",
    "\n",
    "# Create linear regression object\n",
    "regr = linear_model.LinearRegression()\n",
    "\n",
    "# Train the model using the training sets\n",
    "regr.fit(X_train, y_train)\n",
    "\n",
    "# Make predictions using the testing set\n",
    "y_pred = regr.predict(X_test)\n",
    "\n",
    "# The coefficients\n",
    "print(\"Coefficients: \\n\", regr.coef_)\n",
    "# The mean squared error\n",
    "print(\"Mean squared error: %.2f\" % mean_squared_error(y_test, y_pred))\n",
    "# The coefficient of determination: 1 is perfect prediction\n",
    "print(\"Coefficient of determination: %.2f\" % r2_score(y_test, y_pred))\n",
    "\n",
    "# Plot outputs\n",
    "plt.scatter(y_pred, y_test, color=\"black\")\n",
    "\n",
    "plt.xticks(())\n",
    "plt.yticks(())\n",
    "\n",
    "plt.show()\n",
    "['postcode', 'Aufzug', 'Balkon/Terrasse',\n",
    "       'Einbauküche', 'Garten', 'Gäste-WC', 'Keller', 'Stufenlos',\n",
    "       'WG-geeignet', 'privateOffer']"
   ]
  },
  {
   "cell_type": "code",
   "execution_count": 235,
   "metadata": {},
   "outputs": [],
   "source": [
    "X_test['y_pred'] = y_pred\n",
    "X_test['y_test'] = y_test\n",
    "pd.set_option('display.max_rows', 500)"
   ]
  },
  {
   "cell_type": "code",
   "execution_count": null,
   "metadata": {},
   "outputs": [],
   "source": []
  }
 ],
 "metadata": {
  "kernelspec": {
   "display_name": "Python 3.8.10 ('venv': venv)",
   "language": "python",
   "name": "python3"
  },
  "language_info": {
   "codemirror_mode": {
    "name": "ipython",
    "version": 3
   },
   "file_extension": ".py",
   "mimetype": "text/x-python",
   "name": "python",
   "nbconvert_exporter": "python",
   "pygments_lexer": "ipython3",
   "version": "3.8.10"
  },
  "orig_nbformat": 4,
  "vscode": {
   "interpreter": {
    "hash": "28a17152a209bcc2a052783f939e12e114efe9dabb5d2450e2b1000be6a55bcf"
   }
  }
 },
 "nbformat": 4,
 "nbformat_minor": 2
}
