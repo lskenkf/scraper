{
 "cells": [
  {
   "cell_type": "code",
   "execution_count": 5,
   "metadata": {},
   "outputs": [],
   "source": [
    "import os\n",
    "import sys\n",
    "nb_dir = os.path.split(os.getcwd())[0]\n",
    "if nb_dir not in sys.path:\n",
    "    sys.path.append(nb_dir)"
   ]
  },
  {
   "cell_type": "code",
   "execution_count": 6,
   "metadata": {},
   "outputs": [],
   "source": [
    "from utilities.utility_function import *"
   ]
  },
  {
   "cell_type": "code",
   "execution_count": 7,
   "metadata": {},
   "outputs": [],
   "source": [
    "link_list = []\n",
    "pages = [i for i in range(10) ]\n",
    "\n",
    "for page in pages:\n",
    "    try:\n",
    "        url = f'https://disli-immobilien.de/immobiliensuche/page/{page}/'\n",
    "        soup = get_soup(url)\n",
    "        class_list = soup.findAll('div', {'class': 'rh_prop_card__details'})\n",
    "        link_list = link_list + [ sample_class.find('a')['href'] for sample_class in class_list]\n",
    "    except:\n",
    "        pass\n",
    "\n",
    "link_list = list(set(link_list))"
   ]
  },
  {
   "cell_type": "code",
   "execution_count": 8,
   "metadata": {},
   "outputs": [],
   "source": [
    "url = link_list[0]"
   ]
  },
  {
   "cell_type": "code",
   "execution_count": 9,
   "metadata": {},
   "outputs": [
    {
     "data": {
      "text/plain": [
       "'https://disli-immobilien.de/Immobilie/familientraum-mit-vielen-extras-in-oldenburg/'"
      ]
     },
     "execution_count": 9,
     "metadata": {},
     "output_type": "execute_result"
    }
   ],
   "source": [
    "url"
   ]
  },
  {
   "cell_type": "code",
   "execution_count": 10,
   "metadata": {},
   "outputs": [],
   "source": [
    "soup = get_soup(url)"
   ]
  },
  {
   "cell_type": "code",
   "execution_count": 11,
   "metadata": {},
   "outputs": [
    {
     "data": {
      "text/plain": [
       "'Familientraum mit vielen Extras in Oldenburg! – Disli Immobilien'"
      ]
     },
     "execution_count": 11,
     "metadata": {},
     "output_type": "execute_result"
    }
   ],
   "source": [
    "description = soup.head.title.text\n",
    "description"
   ]
  },
  {
   "cell_type": "code",
   "execution_count": 12,
   "metadata": {},
   "outputs": [
    {
     "data": {
      "text/plain": [
       "['\\n\\t\\t\\t\\tZu', 'Verkaufen', '', '', '', '', '', '', '', '', '', '', '', '']"
      ]
     },
     "execution_count": 12,
     "metadata": {},
     "output_type": "execute_result"
    }
   ],
   "source": [
    "text = soup.find(class_='rh_page__property_price').find(class_=\"status\").text\n",
    "text.split(' ')"
   ]
  },
  {
   "cell_type": "code",
   "execution_count": 13,
   "metadata": {},
   "outputs": [
    {
     "data": {
      "text/plain": [
       "['\\n\\t\\t\\t', '599.000€', '', '', '', '', '', '', '', '', '']"
      ]
     },
     "execution_count": 13,
     "metadata": {},
     "output_type": "execute_result"
    }
   ],
   "source": [
    "text = soup.find(class_='rh_page__property_price').find(class_=\"price\").text\n",
    "text.split(' ')"
   ]
  },
  {
   "cell_type": "code",
   "execution_count": 14,
   "metadata": {},
   "outputs": [
    {
     "data": {
      "text/plain": [
       "129.0"
      ]
     },
     "execution_count": 14,
     "metadata": {},
     "output_type": "execute_result"
    }
   ],
   "source": [
    "text = soup.find(class_='rh_property__meta prop_area').find(class_=\"figure\").text\n",
    "float(''.join(filter(str.isdigit, text)))"
   ]
  },
  {
   "cell_type": "code",
   "execution_count": 16,
   "metadata": {},
   "outputs": [],
   "source": [
    "text_title = soup.find(class_='rh_property__additional clearfix').find_all('span', {'class' : 'title'})\n",
    "text_title = [filter_characters(text.text) for text in text_title]\n",
    "text_value = soup.find(class_='rh_property__additional clearfix').find_all('span', {'class':'value'})\n",
    "text_value = [filter_characters(value.text) for value in text_value]\n",
    "\n",
    "text_value = dict(zip(text_title, text_value)) \n"
   ]
  },
  {
   "cell_type": "code",
   "execution_count": 17,
   "metadata": {},
   "outputs": [
    {
     "name": "stdout",
     "output_type": "stream",
     "text": [
      "511m 4 Krusenbusch\n"
     ]
    }
   ],
   "source": [
    "living_space = text_value['Grundstücksfläche:']\n",
    "num_room = text_value['Zimmer insgesamt:']\n",
    "location = text_value['Zusatzinformation zur Lage:']\n",
    "print(living_space,\n",
    "num_room,\n",
    "location)"
   ]
  },
  {
   "cell_type": "code",
   "execution_count": null,
   "metadata": {},
   "outputs": [],
   "source": []
  }
 ],
 "metadata": {
  "kernelspec": {
   "display_name": "Python 3.8.10 ('venv')",
   "language": "python",
   "name": "python3"
  },
  "language_info": {
   "codemirror_mode": {
    "name": "ipython",
    "version": 3
   },
   "file_extension": ".py",
   "mimetype": "text/x-python",
   "name": "python",
   "nbconvert_exporter": "python",
   "pygments_lexer": "ipython3",
   "version": "3.8.10"
  },
  "orig_nbformat": 4,
  "vscode": {
   "interpreter": {
    "hash": "c854c1fa793f0ff09ac885caae082be468af76f6becd1d9e4f52b9776478d752"
   }
  }
 },
 "nbformat": 4,
 "nbformat_minor": 2
}
